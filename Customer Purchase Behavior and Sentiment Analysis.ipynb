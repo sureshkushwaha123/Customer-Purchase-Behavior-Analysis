{
 "cells": [
  {
   "cell_type": "markdown",
   "id": "79aef38f-6419-4589-aaaf-b4d01bae7552",
   "metadata": {},
   "source": [
    "# Customer Purchase Behavior and Sentiment Analysis"
   ]
  },
  {
   "cell_type": "markdown",
   "id": "e367687d-7330-4f7a-9c5a-85918d3dc64c",
   "metadata": {},
   "source": [
    "**Objective:**\n",
    "Build an advanced end-to-end customer purchase behavior and sentiment analysis system using SQL, Python, and PowerBI. This project will help you understand not only the purchase patterns and key performance indicators but also the customer sentiments related to their purchases. This will generate comprehensive insights for business decision-making.\n",
    "\n",
    "**Problem Statement:**\n",
    "You are provided with two datasets: one containing customer purchase information and another containing customer reviews for the purchased products. The datasets include the following details:\n",
    "\n",
    "**Customer Purchase Data:**\n",
    "\n",
    "- Transaction ID\n",
    "- Customer ID\n",
    "- Customer Name\n",
    "- Product ID\n",
    "- Product Name\n",
    "- Product Category\n",
    "- Purchase Quantity\n",
    "- Purchase Price\n",
    "- Purchase Date\n",
    "- Country\n",
    "\n",
    "**Customer Reviews Data:**\n",
    "\n",
    "- Review ID\n",
    "- Customer ID\n",
    "- Product ID\n",
    "- Review Text\n",
    "- Review Date\n",
    "\n",
    "**Your task is to create a comprehensive customer purchase behavior and sentiment analysis system by following the steps outlined below:**"
   ]
  },
  {
   "cell_type": "code",
   "execution_count": 14,
   "id": "448f838f-7224-405a-85cf-ab1ac26c4016",
   "metadata": {},
   "outputs": [],
   "source": [
    "# import neccessary libraries\n",
    "import pymysql\n",
    "import pandas as pd\n",
    "import seaborn as sns\n",
    "sns.set()\n",
    "import matplotlib.pyplot as plt\n",
    "import warnings\n",
    "warnings.filterwarnings('ignore')\n"
   ]
  },
  {
   "cell_type": "markdown",
   "id": "1c8ff817-fe10-4210-a32d-c65d9932bd30",
   "metadata": {},
   "source": [
    "### Data Extraction: Write a Python script to extract data from the SQL database."
   ]
  },
  {
   "cell_type": "code",
   "execution_count": 45,
   "id": "b5e112a2-2a91-4469-af86-263407ea2189",
   "metadata": {},
   "outputs": [
    {
     "data": {
      "text/plain": [
       "<pymysql.cursors.Cursor at 0x19c1e2ef920>"
      ]
     },
     "execution_count": 45,
     "metadata": {},
     "output_type": "execute_result"
    }
   ],
   "source": [
    "# Establishing a connection to the MySQL database using pymsql library\n",
    "db = pymysql.connect(\n",
    "    host = 'localhost',\n",
    "    user = 'root',\n",
    "    password = 'Rafi@mysql123',\n",
    "    database = 'Customer_Purchase_DB'\n",
    "\n",
    ")\n",
    "\n",
    "cur = db.cursor()\n",
    "cur"
   ]
  },
  {
   "cell_type": "code",
   "execution_count": 16,
   "id": "db8f3a26-19ad-4577-80e7-ce41b99f1832",
   "metadata": {},
   "outputs": [
    {
     "name": "stdout",
     "output_type": "stream",
     "text": [
      "('commerce',)\n",
      "('companyhr',)\n",
      "('crashcourse',)\n",
      "('customer_purchase_db',)\n",
      "('ecommerce',)\n",
      "('hr_employee_db',)\n",
      "('information_schema',)\n",
      "('kaggle_ecommerce',)\n",
      "('mysql',)\n",
      "('performance_schema',)\n",
      "('sys',)\n"
     ]
    }
   ],
   "source": [
    "cur.execute('SHOW DATABASES')\n",
    "\n",
    "for database in cur:\n",
    "    print(database)"
   ]
  },
  {
   "cell_type": "code",
   "execution_count": 17,
   "id": "c7e32bac-9b33-4f22-ba7d-5f9c3f41cd34",
   "metadata": {},
   "outputs": [
    {
     "name": "stdout",
     "output_type": "stream",
     "text": [
      "('customers',)\n",
      "('product',)\n",
      "('purchasedata',)\n",
      "('reviewdata',)\n",
      "('transactions',)\n"
     ]
    }
   ],
   "source": [
    "cur.execute('SHOW TABLES')\n",
    "\n",
    "for table in cur:\n",
    "    print(table)"
   ]
  },
  {
   "cell_type": "code",
   "execution_count": 18,
   "id": "66ad25e0-8b61-4375-8360-4e1ef4b404d4",
   "metadata": {},
   "outputs": [
    {
     "data": {
      "text/html": [
       "<div>\n",
       "<style scoped>\n",
       "    .dataframe tbody tr th:only-of-type {\n",
       "        vertical-align: middle;\n",
       "    }\n",
       "\n",
       "    .dataframe tbody tr th {\n",
       "        vertical-align: top;\n",
       "    }\n",
       "\n",
       "    .dataframe thead th {\n",
       "        text-align: right;\n",
       "    }\n",
       "</style>\n",
       "<table border=\"1\" class=\"dataframe\">\n",
       "  <thead>\n",
       "    <tr style=\"text-align: right;\">\n",
       "      <th></th>\n",
       "      <th>CustomerID</th>\n",
       "      <th>CustomerName</th>\n",
       "      <th>Country</th>\n",
       "    </tr>\n",
       "  </thead>\n",
       "  <tbody>\n",
       "    <tr>\n",
       "      <th>0</th>\n",
       "      <td>100</td>\n",
       "      <td>Victoria Larson</td>\n",
       "      <td>Tuvalu</td>\n",
       "    </tr>\n",
       "    <tr>\n",
       "      <th>1</th>\n",
       "      <td>102</td>\n",
       "      <td>Ronald Brandt</td>\n",
       "      <td>Maldives</td>\n",
       "    </tr>\n",
       "    <tr>\n",
       "      <th>2</th>\n",
       "      <td>104</td>\n",
       "      <td>Richard Joseph</td>\n",
       "      <td>Falkland Islands (Malvinas)</td>\n",
       "    </tr>\n",
       "    <tr>\n",
       "      <th>3</th>\n",
       "      <td>105</td>\n",
       "      <td>Andrew Esparza</td>\n",
       "      <td>Macedonia</td>\n",
       "    </tr>\n",
       "    <tr>\n",
       "      <th>4</th>\n",
       "      <td>107</td>\n",
       "      <td>Christine Soto</td>\n",
       "      <td>Poland</td>\n",
       "    </tr>\n",
       "  </tbody>\n",
       "</table>\n",
       "</div>"
      ],
      "text/plain": [
       "   CustomerID     CustomerName                      Country\n",
       "0         100  Victoria Larson                       Tuvalu\n",
       "1         102    Ronald Brandt                     Maldives\n",
       "2         104   Richard Joseph  Falkland Islands (Malvinas)\n",
       "3         105   Andrew Esparza                    Macedonia\n",
       "4         107   Christine Soto                       Poland"
      ]
     },
     "execution_count": 18,
     "metadata": {},
     "output_type": "execute_result"
    }
   ],
   "source": [
    "# Extracted customers table from the MySQL Database\n",
    "query = ''' SELECT *\n",
    "            FROM customers'''\n",
    "\n",
    "cur.execute(query)\n",
    "\n",
    "data = cur.fetchall()\n",
    "customers_df = pd.DataFrame(data, columns = ['CustomerID', 'CustomerName', 'Country'])\n",
    "customers_df.head()"
   ]
  },
  {
   "cell_type": "code",
   "execution_count": 19,
   "id": "ba57b94d-3416-4e3f-9baa-0e12317b52d1",
   "metadata": {},
   "outputs": [
    {
     "data": {
      "text/html": [
       "<div>\n",
       "<style scoped>\n",
       "    .dataframe tbody tr th:only-of-type {\n",
       "        vertical-align: middle;\n",
       "    }\n",
       "\n",
       "    .dataframe tbody tr th {\n",
       "        vertical-align: top;\n",
       "    }\n",
       "\n",
       "    .dataframe thead th {\n",
       "        text-align: right;\n",
       "    }\n",
       "</style>\n",
       "<table border=\"1\" class=\"dataframe\">\n",
       "  <thead>\n",
       "    <tr style=\"text-align: right;\">\n",
       "      <th></th>\n",
       "      <th>ProductID</th>\n",
       "      <th>ProductName</th>\n",
       "      <th>ProductCategory</th>\n",
       "    </tr>\n",
       "  </thead>\n",
       "  <tbody>\n",
       "    <tr>\n",
       "      <th>0</th>\n",
       "      <td>200</td>\n",
       "      <td>Printer</td>\n",
       "      <td>Electronics</td>\n",
       "    </tr>\n",
       "    <tr>\n",
       "      <th>1</th>\n",
       "      <td>201</td>\n",
       "      <td>Coffee Maker</td>\n",
       "      <td>Home Appliances</td>\n",
       "    </tr>\n",
       "    <tr>\n",
       "      <th>2</th>\n",
       "      <td>202</td>\n",
       "      <td>Printer</td>\n",
       "      <td>Electronics</td>\n",
       "    </tr>\n",
       "    <tr>\n",
       "      <th>3</th>\n",
       "      <td>203</td>\n",
       "      <td>Television</td>\n",
       "      <td>Electronics</td>\n",
       "    </tr>\n",
       "    <tr>\n",
       "      <th>4</th>\n",
       "      <td>204</td>\n",
       "      <td>Smart Bulb</td>\n",
       "      <td>Electronics</td>\n",
       "    </tr>\n",
       "  </tbody>\n",
       "</table>\n",
       "</div>"
      ],
      "text/plain": [
       "   ProductID   ProductName  ProductCategory\n",
       "0        200       Printer      Electronics\n",
       "1        201  Coffee Maker  Home Appliances\n",
       "2        202       Printer      Electronics\n",
       "3        203    Television      Electronics\n",
       "4        204    Smart Bulb      Electronics"
      ]
     },
     "execution_count": 19,
     "metadata": {},
     "output_type": "execute_result"
    }
   ],
   "source": [
    "# Extracted products table from the MySQL Database\n",
    "query = ''' SELECT *\n",
    "            FROM Product'''\n",
    "\n",
    "cur.execute(query)\n",
    "\n",
    "data = cur.fetchall()\n",
    "products_df = pd.DataFrame(data, columns = ['ProductID', 'ProductName', 'ProductCategory'])\n",
    "products_df.head()"
   ]
  },
  {
   "cell_type": "code",
   "execution_count": 20,
   "id": "bc1682fa-02db-48bc-9587-ea9ab3c3c60d",
   "metadata": {},
   "outputs": [
    {
     "data": {
      "text/html": [
       "<div>\n",
       "<style scoped>\n",
       "    .dataframe tbody tr th:only-of-type {\n",
       "        vertical-align: middle;\n",
       "    }\n",
       "\n",
       "    .dataframe tbody tr th {\n",
       "        vertical-align: top;\n",
       "    }\n",
       "\n",
       "    .dataframe thead th {\n",
       "        text-align: right;\n",
       "    }\n",
       "</style>\n",
       "<table border=\"1\" class=\"dataframe\">\n",
       "  <thead>\n",
       "    <tr style=\"text-align: right;\">\n",
       "      <th></th>\n",
       "      <th>TransactionID</th>\n",
       "      <th>CustomerID</th>\n",
       "      <th>ProductID</th>\n",
       "      <th>PurchaseQuantity</th>\n",
       "      <th>PurchasePrice</th>\n",
       "      <th>PurchaseDate</th>\n",
       "    </tr>\n",
       "  </thead>\n",
       "  <tbody>\n",
       "    <tr>\n",
       "      <th>0</th>\n",
       "      <td>1</td>\n",
       "      <td>887</td>\n",
       "      <td>240</td>\n",
       "      <td>5</td>\n",
       "      <td>689.99</td>\n",
       "      <td>2024-03-01</td>\n",
       "    </tr>\n",
       "    <tr>\n",
       "      <th>1</th>\n",
       "      <td>2</td>\n",
       "      <td>560</td>\n",
       "      <td>299</td>\n",
       "      <td>4</td>\n",
       "      <td>79.27</td>\n",
       "      <td>2024-01-26</td>\n",
       "    </tr>\n",
       "    <tr>\n",
       "      <th>2</th>\n",
       "      <td>3</td>\n",
       "      <td>701</td>\n",
       "      <td>207</td>\n",
       "      <td>3</td>\n",
       "      <td>666.75</td>\n",
       "      <td>2024-05-13</td>\n",
       "    </tr>\n",
       "    <tr>\n",
       "      <th>3</th>\n",
       "      <td>4</td>\n",
       "      <td>630</td>\n",
       "      <td>290</td>\n",
       "      <td>5</td>\n",
       "      <td>316.19</td>\n",
       "      <td>2023-09-21</td>\n",
       "    </tr>\n",
       "    <tr>\n",
       "      <th>4</th>\n",
       "      <td>5</td>\n",
       "      <td>631</td>\n",
       "      <td>281</td>\n",
       "      <td>4</td>\n",
       "      <td>700.24</td>\n",
       "      <td>2024-01-25</td>\n",
       "    </tr>\n",
       "  </tbody>\n",
       "</table>\n",
       "</div>"
      ],
      "text/plain": [
       "   TransactionID  CustomerID  ProductID  PurchaseQuantity PurchasePrice  \\\n",
       "0              1         887        240                 5        689.99   \n",
       "1              2         560        299                 4         79.27   \n",
       "2              3         701        207                 3        666.75   \n",
       "3              4         630        290                 5        316.19   \n",
       "4              5         631        281                 4        700.24   \n",
       "\n",
       "  PurchaseDate  \n",
       "0   2024-03-01  \n",
       "1   2024-01-26  \n",
       "2   2024-05-13  \n",
       "3   2023-09-21  \n",
       "4   2024-01-25  "
      ]
     },
     "execution_count": 20,
     "metadata": {},
     "output_type": "execute_result"
    }
   ],
   "source": [
    "# Extracted transactions table from the MySQL Database\n",
    "query = ''' SELECT *\n",
    "            FROM Transactions'''\n",
    "\n",
    "cur.execute(query)\n",
    "\n",
    "data = cur.fetchall()\n",
    "transactions_df = pd.DataFrame(data, columns = ['TransactionID', 'CustomerID', 'ProductID', \n",
    "                                            'PurchaseQuantity', 'PurchasePrice', 'PurchaseDate']\n",
    "                          )\n",
    "transactions_df.head()"
   ]
  },
  {
   "cell_type": "code",
   "execution_count": 46,
   "id": "77aea2bd-2da6-4630-954a-456fac8d65b1",
   "metadata": {},
   "outputs": [
    {
     "data": {
      "text/html": [
       "<div>\n",
       "<style scoped>\n",
       "    .dataframe tbody tr th:only-of-type {\n",
       "        vertical-align: middle;\n",
       "    }\n",
       "\n",
       "    .dataframe tbody tr th {\n",
       "        vertical-align: top;\n",
       "    }\n",
       "\n",
       "    .dataframe thead th {\n",
       "        text-align: right;\n",
       "    }\n",
       "</style>\n",
       "<table border=\"1\" class=\"dataframe\">\n",
       "  <thead>\n",
       "    <tr style=\"text-align: right;\">\n",
       "      <th></th>\n",
       "      <th>ReviewID</th>\n",
       "      <th>CustomerID</th>\n",
       "      <th>ProductID</th>\n",
       "      <th>ReviewText</th>\n",
       "      <th>ReviewDate</th>\n",
       "    </tr>\n",
       "  </thead>\n",
       "  <tbody>\n",
       "    <tr>\n",
       "      <th>0</th>\n",
       "      <td>1</td>\n",
       "      <td>486</td>\n",
       "      <td>267</td>\n",
       "      <td>So impressed by the quality. This product trul...</td>\n",
       "      <td>2024-05-12</td>\n",
       "    </tr>\n",
       "    <tr>\n",
       "      <th>1</th>\n",
       "      <td>2</td>\n",
       "      <td>810</td>\n",
       "      <td>246</td>\n",
       "      <td>I'm very happy with the performance. It does e...</td>\n",
       "      <td>2024-03-07</td>\n",
       "    </tr>\n",
       "    <tr>\n",
       "      <th>2</th>\n",
       "      <td>3</td>\n",
       "      <td>855</td>\n",
       "      <td>291</td>\n",
       "      <td>I regret buying this. The quality is terrible ...</td>\n",
       "      <td>2023-11-15</td>\n",
       "    </tr>\n",
       "    <tr>\n",
       "      <th>3</th>\n",
       "      <td>4</td>\n",
       "      <td>524</td>\n",
       "      <td>235</td>\n",
       "      <td>It serves its purpose, but it's not anything e...</td>\n",
       "      <td>2024-05-27</td>\n",
       "    </tr>\n",
       "    <tr>\n",
       "      <th>4</th>\n",
       "      <td>5</td>\n",
       "      <td>238</td>\n",
       "      <td>220</td>\n",
       "      <td>Very high-quality product. I would buy it agai...</td>\n",
       "      <td>2023-09-10</td>\n",
       "    </tr>\n",
       "  </tbody>\n",
       "</table>\n",
       "</div>"
      ],
      "text/plain": [
       "   ReviewID  CustomerID  ProductID  \\\n",
       "0         1         486        267   \n",
       "1         2         810        246   \n",
       "2         3         855        291   \n",
       "3         4         524        235   \n",
       "4         5         238        220   \n",
       "\n",
       "                                          ReviewText  ReviewDate  \n",
       "0  So impressed by the quality. This product trul...  2024-05-12  \n",
       "1  I'm very happy with the performance. It does e...  2024-03-07  \n",
       "2  I regret buying this. The quality is terrible ...  2023-11-15  \n",
       "3  It serves its purpose, but it's not anything e...  2024-05-27  \n",
       "4  Very high-quality product. I would buy it agai...  2023-09-10  "
      ]
     },
     "execution_count": 46,
     "metadata": {},
     "output_type": "execute_result"
    }
   ],
   "source": [
    "# Extracted reviews table from the MySQL Database\n",
    "query = ''' SELECT *\n",
    "            FROM ReviewData'''\n",
    "\n",
    "cur.execute(query)\n",
    "\n",
    "data = cur.fetchall()\n",
    "review_df = pd.DataFrame(data, columns = ['ReviewID', 'CustomerID', 'ProductID', 'ReviewText', 'ReviewDate'])\n",
    "review_df.head()"
   ]
  },
  {
   "cell_type": "code",
   "execution_count": 21,
   "id": "c23f436c-db04-4f81-88c6-47512aba7b1d",
   "metadata": {},
   "outputs": [
    {
     "name": "stdout",
     "output_type": "stream",
     "text": [
      "<class 'pandas.core.frame.DataFrame'>\n",
      "RangeIndex: 1000 entries, 0 to 999\n",
      "Data columns (total 6 columns):\n",
      " #   Column            Non-Null Count  Dtype \n",
      "---  ------            --------------  ----- \n",
      " 0   TransactionID     1000 non-null   int64 \n",
      " 1   CustomerID        1000 non-null   int64 \n",
      " 2   ProductID         1000 non-null   int64 \n",
      " 3   PurchaseQuantity  1000 non-null   int64 \n",
      " 4   PurchasePrice     1000 non-null   object\n",
      " 5   PurchaseDate      1000 non-null   object\n",
      "dtypes: int64(4), object(2)\n",
      "memory usage: 47.0+ KB\n"
     ]
    }
   ],
   "source": [
    "transactions_df.info()"
   ]
  },
  {
   "cell_type": "code",
   "execution_count": 22,
   "id": "fcb15b33-c234-4de4-9cd1-3de236cee793",
   "metadata": {},
   "outputs": [],
   "source": [
    "transactions_df['PurchasePrice'] = transactions_df['PurchasePrice'].astype('float')\n",
    "transactions_df['PurchaseDate'] = pd.to_datetime(transactions_df['PurchaseDate'])"
   ]
  },
  {
   "cell_type": "markdown",
   "id": "0e008c6e-8664-44b8-be50-45360013888b",
   "metadata": {},
   "source": [
    "### Data Analysis: Perform the following analysis using Python:\n",
    "### Calculate total purchases, total revenue, and average purchase value."
   ]
  },
  {
   "cell_type": "code",
   "execution_count": 23,
   "id": "d30bec03-f60d-4ab1-96c1-2c83154787b2",
   "metadata": {},
   "outputs": [
    {
     "name": "stdout",
     "output_type": "stream",
     "text": [
      "Total purchases $489274.72\n",
      "Averaga purchase value per transaction: $489.27\n",
      "Averaga purchase value per customers: $803.41\n"
     ]
    }
   ],
   "source": [
    "\n",
    "print(f'Total purchases ${transactions_df['PurchasePrice'].sum()}')\n",
    "\n",
    "print(f'Averaga purchase value per transaction: ${round(transactions_df['PurchasePrice'].mean(), 2)}')\n",
    "\n",
    "avg_cust = transactions_df['PurchasePrice'].sum()/transactions_df['CustomerID'].nunique()\n",
    "print(f'Averaga purchase value per customers: ${round(avg_cust, 2)}')\n"
   ]
  },
  {
   "cell_type": "markdown",
   "id": "be983b0f-0eba-4470-a46a-2e703569dc1e",
   "metadata": {},
   "source": [
    "### Identify top customers and their purchasing behavior."
   ]
  },
  {
   "cell_type": "code",
   "execution_count": 24,
   "id": "5eaadfb1-5a2b-481b-b96f-2cdc593f3e8e",
   "metadata": {},
   "outputs": [
    {
     "name": "stdout",
     "output_type": "stream",
     "text": [
      "Top 5 Customers by total puchased price:\n"
     ]
    },
    {
     "data": {
      "text/html": [
       "<div>\n",
       "<style scoped>\n",
       "    .dataframe tbody tr th:only-of-type {\n",
       "        vertical-align: middle;\n",
       "    }\n",
       "\n",
       "    .dataframe tbody tr th {\n",
       "        vertical-align: top;\n",
       "    }\n",
       "\n",
       "    .dataframe thead th {\n",
       "        text-align: right;\n",
       "    }\n",
       "</style>\n",
       "<table border=\"1\" class=\"dataframe\">\n",
       "  <thead>\n",
       "    <tr style=\"text-align: right;\">\n",
       "      <th></th>\n",
       "      <th>CustomerID</th>\n",
       "      <th>CustomerName</th>\n",
       "      <th>PurchasePrice</th>\n",
       "    </tr>\n",
       "  </thead>\n",
       "  <tbody>\n",
       "    <tr>\n",
       "      <th>237</th>\n",
       "      <td>467</td>\n",
       "      <td>Ashley Parrish</td>\n",
       "      <td>4315.46</td>\n",
       "    </tr>\n",
       "    <tr>\n",
       "      <th>280</th>\n",
       "      <td>529</td>\n",
       "      <td>Taylor Small</td>\n",
       "      <td>3173.35</td>\n",
       "    </tr>\n",
       "    <tr>\n",
       "      <th>148</th>\n",
       "      <td>328</td>\n",
       "      <td>Nicole Good</td>\n",
       "      <td>3094.51</td>\n",
       "    </tr>\n",
       "    <tr>\n",
       "      <th>5</th>\n",
       "      <td>108</td>\n",
       "      <td>Eddie Mueller</td>\n",
       "      <td>2871.47</td>\n",
       "    </tr>\n",
       "    <tr>\n",
       "      <th>469</th>\n",
       "      <td>788</td>\n",
       "      <td>Miranda Foster</td>\n",
       "      <td>2814.04</td>\n",
       "    </tr>\n",
       "  </tbody>\n",
       "</table>\n",
       "</div>"
      ],
      "text/plain": [
       "     CustomerID    CustomerName  PurchasePrice\n",
       "237         467  Ashley Parrish        4315.46\n",
       "280         529    Taylor Small        3173.35\n",
       "148         328     Nicole Good        3094.51\n",
       "5           108   Eddie Mueller        2871.47\n",
       "469         788  Miranda Foster        2814.04"
      ]
     },
     "execution_count": 24,
     "metadata": {},
     "output_type": "execute_result"
    }
   ],
   "source": [
    "\n",
    "cust_trans = pd.merge(transactions_df, customers_df, on='CustomerID', how='inner')\n",
    "\n",
    "print('Top 5 Customers by total puchased price:')\n",
    "cust_trans.groupby(by = \n",
    "                    ['CustomerID', 'CustomerName']\n",
    "                  )['PurchasePrice'].sum().reset_index().sort_values(by='PurchasePrice', ascending=False).iloc[:5,:]"
   ]
  },
  {
   "cell_type": "code",
   "execution_count": 25,
   "id": "bbac1018-313a-46cc-84e2-d6363e7e6eb8",
   "metadata": {},
   "outputs": [
    {
     "name": "stdout",
     "output_type": "stream",
     "text": [
      "Top 5 Customers by number of transactions:\n"
     ]
    },
    {
     "data": {
      "text/html": [
       "<div>\n",
       "<style scoped>\n",
       "    .dataframe tbody tr th:only-of-type {\n",
       "        vertical-align: middle;\n",
       "    }\n",
       "\n",
       "    .dataframe tbody tr th {\n",
       "        vertical-align: top;\n",
       "    }\n",
       "\n",
       "    .dataframe thead th {\n",
       "        text-align: right;\n",
       "    }\n",
       "</style>\n",
       "<table border=\"1\" class=\"dataframe\">\n",
       "  <thead>\n",
       "    <tr style=\"text-align: right;\">\n",
       "      <th></th>\n",
       "      <th>CustomerID</th>\n",
       "      <th>CustomerName</th>\n",
       "      <th>TransactionID</th>\n",
       "    </tr>\n",
       "  </thead>\n",
       "  <tbody>\n",
       "    <tr>\n",
       "      <th>468</th>\n",
       "      <td>787</td>\n",
       "      <td>Joseph Horton</td>\n",
       "      <td>5</td>\n",
       "    </tr>\n",
       "    <tr>\n",
       "      <th>75</th>\n",
       "      <td>216</td>\n",
       "      <td>Joshua Ritter</td>\n",
       "      <td>5</td>\n",
       "    </tr>\n",
       "    <tr>\n",
       "      <th>477</th>\n",
       "      <td>801</td>\n",
       "      <td>Jesse Barker</td>\n",
       "      <td>5</td>\n",
       "    </tr>\n",
       "    <tr>\n",
       "      <th>5</th>\n",
       "      <td>108</td>\n",
       "      <td>Eddie Mueller</td>\n",
       "      <td>5</td>\n",
       "    </tr>\n",
       "    <tr>\n",
       "      <th>237</th>\n",
       "      <td>467</td>\n",
       "      <td>Ashley Parrish</td>\n",
       "      <td>5</td>\n",
       "    </tr>\n",
       "  </tbody>\n",
       "</table>\n",
       "</div>"
      ],
      "text/plain": [
       "     CustomerID    CustomerName  TransactionID\n",
       "468         787   Joseph Horton              5\n",
       "75          216   Joshua Ritter              5\n",
       "477         801    Jesse Barker              5\n",
       "5           108   Eddie Mueller              5\n",
       "237         467  Ashley Parrish              5"
      ]
     },
     "execution_count": 25,
     "metadata": {},
     "output_type": "execute_result"
    }
   ],
   "source": [
    "print('Top 5 Customers by number of transactions:')\n",
    "cust_trans.groupby(by = \n",
    "                    ['CustomerID', 'CustomerName']\n",
    "                  )['TransactionID'].count().reset_index().sort_values(by='TransactionID', ascending=False).iloc[:5,:]"
   ]
  },
  {
   "cell_type": "markdown",
   "id": "32d79449-3c46-4a8d-b58a-989779bbb35e",
   "metadata": {},
   "source": [
    "### Analyze purchase trends over time (monthly, quarterly, yearly)."
   ]
  },
  {
   "cell_type": "code",
   "execution_count": 26,
   "id": "91366322-d1f6-4fa0-ae95-487399a2b884",
   "metadata": {},
   "outputs": [
    {
     "name": "stdout",
     "output_type": "stream",
     "text": [
      "Monthly total Revenue generated:\n"
     ]
    },
    {
     "data": {
      "text/html": [
       "<div>\n",
       "<style scoped>\n",
       "    .dataframe tbody tr th:only-of-type {\n",
       "        vertical-align: middle;\n",
       "    }\n",
       "\n",
       "    .dataframe tbody tr th {\n",
       "        vertical-align: top;\n",
       "    }\n",
       "\n",
       "    .dataframe thead th {\n",
       "        text-align: right;\n",
       "    }\n",
       "</style>\n",
       "<table border=\"1\" class=\"dataframe\">\n",
       "  <thead>\n",
       "    <tr style=\"text-align: right;\">\n",
       "      <th></th>\n",
       "      <th>PurchaseMonth</th>\n",
       "      <th>PurchasePrice</th>\n",
       "    </tr>\n",
       "  </thead>\n",
       "  <tbody>\n",
       "    <tr>\n",
       "      <th>0</th>\n",
       "      <td>January</td>\n",
       "      <td>43575.14</td>\n",
       "    </tr>\n",
       "    <tr>\n",
       "      <th>1</th>\n",
       "      <td>February</td>\n",
       "      <td>41393.77</td>\n",
       "    </tr>\n",
       "    <tr>\n",
       "      <th>2</th>\n",
       "      <td>March</td>\n",
       "      <td>37442.66</td>\n",
       "    </tr>\n",
       "    <tr>\n",
       "      <th>3</th>\n",
       "      <td>April</td>\n",
       "      <td>34165.64</td>\n",
       "    </tr>\n",
       "    <tr>\n",
       "      <th>4</th>\n",
       "      <td>May</td>\n",
       "      <td>42799.97</td>\n",
       "    </tr>\n",
       "    <tr>\n",
       "      <th>5</th>\n",
       "      <td>June</td>\n",
       "      <td>31563.91</td>\n",
       "    </tr>\n",
       "    <tr>\n",
       "      <th>6</th>\n",
       "      <td>July</td>\n",
       "      <td>47956.69</td>\n",
       "    </tr>\n",
       "    <tr>\n",
       "      <th>7</th>\n",
       "      <td>August</td>\n",
       "      <td>33493.46</td>\n",
       "    </tr>\n",
       "    <tr>\n",
       "      <th>8</th>\n",
       "      <td>September</td>\n",
       "      <td>46764.80</td>\n",
       "    </tr>\n",
       "    <tr>\n",
       "      <th>9</th>\n",
       "      <td>October</td>\n",
       "      <td>38368.97</td>\n",
       "    </tr>\n",
       "    <tr>\n",
       "      <th>10</th>\n",
       "      <td>November</td>\n",
       "      <td>39839.29</td>\n",
       "    </tr>\n",
       "    <tr>\n",
       "      <th>11</th>\n",
       "      <td>December</td>\n",
       "      <td>51910.42</td>\n",
       "    </tr>\n",
       "  </tbody>\n",
       "</table>\n",
       "</div>"
      ],
      "text/plain": [
       "   PurchaseMonth  PurchasePrice\n",
       "0        January       43575.14\n",
       "1       February       41393.77\n",
       "2          March       37442.66\n",
       "3          April       34165.64\n",
       "4            May       42799.97\n",
       "5           June       31563.91\n",
       "6           July       47956.69\n",
       "7         August       33493.46\n",
       "8      September       46764.80\n",
       "9        October       38368.97\n",
       "10      November       39839.29\n",
       "11      December       51910.42"
      ]
     },
     "execution_count": 26,
     "metadata": {},
     "output_type": "execute_result"
    }
   ],
   "source": [
    "\n",
    "transactions_df['PurchaseMonth'] = transactions_df['PurchaseDate'].dt.month_name()\n",
    "transactions_df['PurchaseMonthNum'] = transactions_df['PurchaseDate'].dt.month\n",
    "\n",
    "print('Monthly total Revenue generated:')\n",
    "df = transactions_df.groupby(by=\n",
    "                        ['PurchaseMonthNum',\n",
    "                        \"PurchaseMonth\"])['PurchasePrice'].sum().reset_index()\n",
    "df = df.sort_values(by='PurchaseMonthNum').iloc[:,1:]\n",
    "df"
   ]
  },
  {
   "cell_type": "code",
   "execution_count": 27,
   "id": "eceb5250-5766-4a52-85c3-b81b7779a6d3",
   "metadata": {},
   "outputs": [
    {
     "data": {
      "image/png": "[encoded data removed]",
      "text/plain": [
       "<Figure size 800x400 with 1 Axes>"
      ]
     },
     "metadata": {},
     "output_type": "display_data"
    }
   ],
   "source": [
    "\n",
    "plt.figure(figsize=(8, 4))\n",
    "sns.lineplot(x = df.PurchaseMonth, y = df['PurchasePrice'], \n",
    "             marker='o', color = 'cyan', markersize = 7,\n",
    "             linestyle='--', label='Purchase amount')\n",
    "\n",
    "plt.title('Purchase trends over Month', color = 'brown', fontsize = 15)\n",
    "plt.yticks(color ='black')\n",
    "plt.xticks(rotation=45, color = 'black')\n",
    "plt.tight_layout()\n",
    "plt.show()\n"
   ]
  },
  {
   "cell_type": "code",
   "execution_count": 28,
   "id": "146b7d3b-9999-453b-adb5-b4c5c50b3671",
   "metadata": {},
   "outputs": [
    {
     "name": "stdout",
     "output_type": "stream",
     "text": [
      "Quarterly total Revenue generated:\n"
     ]
    },
    {
     "data": {
      "text/html": [
       "<div>\n",
       "<style scoped>\n",
       "    .dataframe tbody tr th:only-of-type {\n",
       "        vertical-align: middle;\n",
       "    }\n",
       "\n",
       "    .dataframe tbody tr th {\n",
       "        vertical-align: top;\n",
       "    }\n",
       "\n",
       "    .dataframe thead th {\n",
       "        text-align: right;\n",
       "    }\n",
       "</style>\n",
       "<table border=\"1\" class=\"dataframe\">\n",
       "  <thead>\n",
       "    <tr style=\"text-align: right;\">\n",
       "      <th></th>\n",
       "      <th>PurchaseQuarter</th>\n",
       "      <th>PurchasePrice</th>\n",
       "    </tr>\n",
       "  </thead>\n",
       "  <tbody>\n",
       "    <tr>\n",
       "      <th>0</th>\n",
       "      <td>1</td>\n",
       "      <td>122411.57</td>\n",
       "    </tr>\n",
       "    <tr>\n",
       "      <th>1</th>\n",
       "      <td>2</td>\n",
       "      <td>108529.52</td>\n",
       "    </tr>\n",
       "    <tr>\n",
       "      <th>2</th>\n",
       "      <td>3</td>\n",
       "      <td>128214.95</td>\n",
       "    </tr>\n",
       "    <tr>\n",
       "      <th>3</th>\n",
       "      <td>4</td>\n",
       "      <td>130118.68</td>\n",
       "    </tr>\n",
       "  </tbody>\n",
       "</table>\n",
       "</div>"
      ],
      "text/plain": [
       "   PurchaseQuarter  PurchasePrice\n",
       "0                1      122411.57\n",
       "1                2      108529.52\n",
       "2                3      128214.95\n",
       "3                4      130118.68"
      ]
     },
     "execution_count": 28,
     "metadata": {},
     "output_type": "execute_result"
    }
   ],
   "source": [
    "\n",
    "transactions_df['PurchaseQuarter'] = transactions_df['PurchaseDate'].dt.quarter\n",
    "\n",
    "print('Quarterly total Revenue generated:')\n",
    "\n",
    "transactions_df.groupby(by=['PurchaseQuarter'])['PurchasePrice'].sum().reset_index()\n"
   ]
  },
  {
   "cell_type": "code",
   "execution_count": 29,
   "id": "47363c59-abc0-4d3c-8178-e8db9db6b264",
   "metadata": {},
   "outputs": [
    {
     "name": "stdout",
     "output_type": "stream",
     "text": [
      "Yearly total Revenue generated:\n"
     ]
    },
    {
     "data": {
      "text/html": [
       "<div>\n",
       "<style scoped>\n",
       "    .dataframe tbody tr th:only-of-type {\n",
       "        vertical-align: middle;\n",
       "    }\n",
       "\n",
       "    .dataframe tbody tr th {\n",
       "        vertical-align: top;\n",
       "    }\n",
       "\n",
       "    .dataframe thead th {\n",
       "        text-align: right;\n",
       "    }\n",
       "</style>\n",
       "<table border=\"1\" class=\"dataframe\">\n",
       "  <thead>\n",
       "    <tr style=\"text-align: right;\">\n",
       "      <th></th>\n",
       "      <th>PurchaseDate</th>\n",
       "      <th>PurchasePrice</th>\n",
       "    </tr>\n",
       "  </thead>\n",
       "  <tbody>\n",
       "    <tr>\n",
       "      <th>0</th>\n",
       "      <td>2023</td>\n",
       "      <td>262346.07</td>\n",
       "    </tr>\n",
       "    <tr>\n",
       "      <th>1</th>\n",
       "      <td>2024</td>\n",
       "      <td>226928.65</td>\n",
       "    </tr>\n",
       "  </tbody>\n",
       "</table>\n",
       "</div>"
      ],
      "text/plain": [
       "   PurchaseDate  PurchasePrice\n",
       "0          2023      262346.07\n",
       "1          2024      226928.65"
      ]
     },
     "execution_count": 29,
     "metadata": {},
     "output_type": "execute_result"
    }
   ],
   "source": [
    "\n",
    "print('Yearly total Revenue generated:')\n",
    "transactions_df.groupby(by=transactions_df['PurchaseDate'].dt.year)['PurchasePrice'].sum().reset_index()\n"
   ]
  },
  {
   "cell_type": "code",
   "execution_count": 30,
   "id": "4e13ea51-9c00-4b72-b8cf-a3a79aaad6a0",
   "metadata": {},
   "outputs": [
    {
     "name": "stdout",
     "output_type": "stream",
     "text": [
      "Weekly total Revenue generated:\n"
     ]
    },
    {
     "data": {
      "text/html": [
       "<div>\n",
       "<style scoped>\n",
       "    .dataframe tbody tr th:only-of-type {\n",
       "        vertical-align: middle;\n",
       "    }\n",
       "\n",
       "    .dataframe tbody tr th {\n",
       "        vertical-align: top;\n",
       "    }\n",
       "\n",
       "    .dataframe thead th {\n",
       "        text-align: right;\n",
       "    }\n",
       "</style>\n",
       "<table border=\"1\" class=\"dataframe\">\n",
       "  <thead>\n",
       "    <tr style=\"text-align: right;\">\n",
       "      <th></th>\n",
       "      <th>PurchaseDate</th>\n",
       "      <th>PurchasePrice</th>\n",
       "    </tr>\n",
       "  </thead>\n",
       "  <tbody>\n",
       "    <tr>\n",
       "      <th>0</th>\n",
       "      <td>Friday</td>\n",
       "      <td>80450.53</td>\n",
       "    </tr>\n",
       "    <tr>\n",
       "      <th>5</th>\n",
       "      <td>Tuesday</td>\n",
       "      <td>75200.05</td>\n",
       "    </tr>\n",
       "    <tr>\n",
       "      <th>6</th>\n",
       "      <td>Wednesday</td>\n",
       "      <td>71266.62</td>\n",
       "    </tr>\n",
       "    <tr>\n",
       "      <th>1</th>\n",
       "      <td>Monday</td>\n",
       "      <td>70973.43</td>\n",
       "    </tr>\n",
       "    <tr>\n",
       "      <th>4</th>\n",
       "      <td>Thursday</td>\n",
       "      <td>65950.16</td>\n",
       "    </tr>\n",
       "    <tr>\n",
       "      <th>2</th>\n",
       "      <td>Saturday</td>\n",
       "      <td>62981.60</td>\n",
       "    </tr>\n",
       "    <tr>\n",
       "      <th>3</th>\n",
       "      <td>Sunday</td>\n",
       "      <td>62452.33</td>\n",
       "    </tr>\n",
       "  </tbody>\n",
       "</table>\n",
       "</div>"
      ],
      "text/plain": [
       "  PurchaseDate  PurchasePrice\n",
       "0       Friday       80450.53\n",
       "5      Tuesday       75200.05\n",
       "6    Wednesday       71266.62\n",
       "1       Monday       70973.43\n",
       "4     Thursday       65950.16\n",
       "2     Saturday       62981.60\n",
       "3       Sunday       62452.33"
      ]
     },
     "execution_count": 30,
     "metadata": {},
     "output_type": "execute_result"
    }
   ],
   "source": [
    "print('Weekly total Revenue generated:')\n",
    "df = transactions_df.groupby(by=transactions_df['PurchaseDate'].dt.day_name())['PurchasePrice'].sum().reset_index()\n",
    "df = df.sort_values(by='PurchasePrice', ascending=False)\n",
    "df"
   ]
  },
  {
   "cell_type": "code",
   "execution_count": 31,
   "id": "201bbe35-64e3-4689-8a43-4cfb7bcdfe52",
   "metadata": {},
   "outputs": [
    {
     "data": {
      "image/png": "[encoded data removed]",
      "text/plain": [
       "<Figure size 800x400 with 1 Axes>"
      ]
     },
     "metadata": {},
     "output_type": "display_data"
    }
   ],
   "source": [
    "plt.figure(figsize=(8, 4))\n",
    "sns.barplot(x = df['PurchaseDate'], y = df['PurchasePrice'], data = df, palette = 'coolwarm', edgecolor = 'black')\n",
    "\n",
    "plt.title('Weekly Purchased Amount', color = 'brown', fontsize = 15)\n",
    "plt.yticks(color ='black')\n",
    "plt.xticks(rotation=60, color = 'black')\n",
    "plt.tight_layout()\n",
    "plt.show()"
   ]
  },
  {
   "cell_type": "markdown",
   "id": "92c90419-6613-403a-8d92-67268a067cbb",
   "metadata": {},
   "source": [
    "### Identify the top-performing product categories."
   ]
  },
  {
   "cell_type": "code",
   "execution_count": 32,
   "id": "df89d43b-85ce-4c82-a471-73c3e6c552a7",
   "metadata": {},
   "outputs": [
    {
     "name": "stdout",
     "output_type": "stream",
     "text": [
      "Top-performing Product category by total purchased:\n"
     ]
    },
    {
     "data": {
      "text/html": [
       "<div>\n",
       "<style scoped>\n",
       "    .dataframe tbody tr th:only-of-type {\n",
       "        vertical-align: middle;\n",
       "    }\n",
       "\n",
       "    .dataframe tbody tr th {\n",
       "        vertical-align: top;\n",
       "    }\n",
       "\n",
       "    .dataframe thead th {\n",
       "        text-align: right;\n",
       "    }\n",
       "</style>\n",
       "<table border=\"1\" class=\"dataframe\">\n",
       "  <thead>\n",
       "    <tr style=\"text-align: right;\">\n",
       "      <th></th>\n",
       "      <th>ProductCategory</th>\n",
       "      <th>PurchasePrice</th>\n",
       "    </tr>\n",
       "  </thead>\n",
       "  <tbody>\n",
       "    <tr>\n",
       "      <th>0</th>\n",
       "      <td>Electronics</td>\n",
       "      <td>245354.82</td>\n",
       "    </tr>\n",
       "  </tbody>\n",
       "</table>\n",
       "</div>"
      ],
      "text/plain": [
       "  ProductCategory  PurchasePrice\n",
       "0     Electronics      245354.82"
      ]
     },
     "execution_count": 32,
     "metadata": {},
     "output_type": "execute_result"
    }
   ],
   "source": [
    "\n",
    "prod_trans = pd.merge(products_df, transactions_df, on='ProductID', how='inner')\n",
    "\n",
    "df = prod_trans.groupby(by=['ProductCategory'])['PurchasePrice'].sum().reset_index()\n",
    "print(f'Top-performing Product category by total purchased:')\n",
    "df.sort_values(by='PurchasePrice', ascending=False).iloc[:1,:]\n"
   ]
  },
  {
   "cell_type": "code",
   "execution_count": 33,
   "id": "870f609e-38b1-4788-89d9-4332f1b1ce60",
   "metadata": {},
   "outputs": [
    {
     "name": "stdout",
     "output_type": "stream",
     "text": [
      "Top-performing Product category by Purchased count:\n"
     ]
    },
    {
     "data": {
      "text/html": [
       "<div>\n",
       "<style scoped>\n",
       "    .dataframe tbody tr th:only-of-type {\n",
       "        vertical-align: middle;\n",
       "    }\n",
       "\n",
       "    .dataframe tbody tr th {\n",
       "        vertical-align: top;\n",
       "    }\n",
       "\n",
       "    .dataframe thead th {\n",
       "        text-align: right;\n",
       "    }\n",
       "</style>\n",
       "<table border=\"1\" class=\"dataframe\">\n",
       "  <thead>\n",
       "    <tr style=\"text-align: right;\">\n",
       "      <th></th>\n",
       "      <th>ProductCategory</th>\n",
       "      <th>TransactionID</th>\n",
       "    </tr>\n",
       "  </thead>\n",
       "  <tbody>\n",
       "    <tr>\n",
       "      <th>0</th>\n",
       "      <td>Electronics</td>\n",
       "      <td>503</td>\n",
       "    </tr>\n",
       "  </tbody>\n",
       "</table>\n",
       "</div>"
      ],
      "text/plain": [
       "  ProductCategory  TransactionID\n",
       "0     Electronics            503"
      ]
     },
     "execution_count": 33,
     "metadata": {},
     "output_type": "execute_result"
    }
   ],
   "source": [
    "\n",
    "df = prod_trans.groupby(by=['ProductCategory'])['TransactionID'].count().reset_index()\n",
    "print(f'Top-performing Product category by Purchased count:')\n",
    "df.sort_values(by='TransactionID', ascending=False).iloc[:1,:]\n"
   ]
  },
  {
   "cell_type": "markdown",
   "id": "338f046f-1d2d-409d-b887-a781500b57e3",
   "metadata": {},
   "source": [
    "###  Identify the top-performing product."
   ]
  },
  {
   "cell_type": "code",
   "execution_count": 34,
   "id": "e1d50b8f-7c8e-43d6-a4bb-ae263d7ebb0f",
   "metadata": {},
   "outputs": [
    {
     "name": "stdout",
     "output_type": "stream",
     "text": [
      "Top-performing Product by Total Purchased:\n"
     ]
    },
    {
     "data": {
      "text/html": [
       "<div>\n",
       "<style scoped>\n",
       "    .dataframe tbody tr th:only-of-type {\n",
       "        vertical-align: middle;\n",
       "    }\n",
       "\n",
       "    .dataframe tbody tr th {\n",
       "        vertical-align: top;\n",
       "    }\n",
       "\n",
       "    .dataframe thead th {\n",
       "        text-align: right;\n",
       "    }\n",
       "</style>\n",
       "<table border=\"1\" class=\"dataframe\">\n",
       "  <thead>\n",
       "    <tr style=\"text-align: right;\">\n",
       "      <th></th>\n",
       "      <th>ProductName</th>\n",
       "      <th>PurchasePrice</th>\n",
       "    </tr>\n",
       "  </thead>\n",
       "  <tbody>\n",
       "    <tr>\n",
       "      <th>4</th>\n",
       "      <td>Electric Kettle</td>\n",
       "      <td>39992.67</td>\n",
       "    </tr>\n",
       "    <tr>\n",
       "      <th>5</th>\n",
       "      <td>Headphones</td>\n",
       "      <td>39458.71</td>\n",
       "    </tr>\n",
       "    <tr>\n",
       "      <th>16</th>\n",
       "      <td>Television</td>\n",
       "      <td>39092.90</td>\n",
       "    </tr>\n",
       "    <tr>\n",
       "      <th>19</th>\n",
       "      <td>Washing Machine</td>\n",
       "      <td>34375.71</td>\n",
       "    </tr>\n",
       "    <tr>\n",
       "      <th>9</th>\n",
       "      <td>Printer</td>\n",
       "      <td>31652.45</td>\n",
       "    </tr>\n",
       "  </tbody>\n",
       "</table>\n",
       "</div>"
      ],
      "text/plain": [
       "        ProductName  PurchasePrice\n",
       "4   Electric Kettle       39992.67\n",
       "5        Headphones       39458.71\n",
       "16       Television       39092.90\n",
       "19  Washing Machine       34375.71\n",
       "9           Printer       31652.45"
      ]
     },
     "execution_count": 34,
     "metadata": {},
     "output_type": "execute_result"
    }
   ],
   "source": [
    "df1 = prod_trans.groupby(by=['ProductName'])['PurchasePrice'].sum().reset_index()\n",
    "print(f'Top-performing Product by Total Purchased:')\n",
    "df1 = df1.sort_values(by='PurchasePrice', ascending=False).iloc[:5,:]\n",
    "df1\n"
   ]
  },
  {
   "cell_type": "code",
   "execution_count": 35,
   "id": "efaa8738-3a00-46e5-88a3-22c0c895e8bd",
   "metadata": {},
   "outputs": [
    {
     "name": "stdout",
     "output_type": "stream",
     "text": [
      "Top-performing Product by Purchased count:\n"
     ]
    },
    {
     "data": {
      "text/html": [
       "<div>\n",
       "<style scoped>\n",
       "    .dataframe tbody tr th:only-of-type {\n",
       "        vertical-align: middle;\n",
       "    }\n",
       "\n",
       "    .dataframe tbody tr th {\n",
       "        vertical-align: top;\n",
       "    }\n",
       "\n",
       "    .dataframe thead th {\n",
       "        text-align: right;\n",
       "    }\n",
       "</style>\n",
       "<table border=\"1\" class=\"dataframe\">\n",
       "  <thead>\n",
       "    <tr style=\"text-align: right;\">\n",
       "      <th></th>\n",
       "      <th>ProductName</th>\n",
       "      <th>TransactionID</th>\n",
       "    </tr>\n",
       "  </thead>\n",
       "  <tbody>\n",
       "    <tr>\n",
       "      <th>16</th>\n",
       "      <td>Television</td>\n",
       "      <td>80</td>\n",
       "    </tr>\n",
       "    <tr>\n",
       "      <th>5</th>\n",
       "      <td>Headphones</td>\n",
       "      <td>76</td>\n",
       "    </tr>\n",
       "    <tr>\n",
       "      <th>4</th>\n",
       "      <td>Electric Kettle</td>\n",
       "      <td>76</td>\n",
       "    </tr>\n",
       "    <tr>\n",
       "      <th>19</th>\n",
       "      <td>Washing Machine</td>\n",
       "      <td>69</td>\n",
       "    </tr>\n",
       "    <tr>\n",
       "      <th>9</th>\n",
       "      <td>Printer</td>\n",
       "      <td>62</td>\n",
       "    </tr>\n",
       "  </tbody>\n",
       "</table>\n",
       "</div>"
      ],
      "text/plain": [
       "        ProductName  TransactionID\n",
       "16       Television             80\n",
       "5        Headphones             76\n",
       "4   Electric Kettle             76\n",
       "19  Washing Machine             69\n",
       "9           Printer             62"
      ]
     },
     "execution_count": 35,
     "metadata": {},
     "output_type": "execute_result"
    }
   ],
   "source": [
    "\n",
    "df2 = prod_trans.groupby(by=['ProductName'])['TransactionID'].count().reset_index()\n",
    "print(f'Top-performing Product by Purchased count:')\n",
    "df2= df2.sort_values(by='TransactionID', ascending=False).iloc[:5,:]\n",
    "df2\n"
   ]
  },
  {
   "cell_type": "code",
   "execution_count": 36,
   "id": "747bb0e2-0448-41d0-9250-a0ba7c11143c",
   "metadata": {},
   "outputs": [
    {
     "data": {
      "image/png": "[encoded data removed]",
      "text/plain": [
       "<Figure size 1200x600 with 2 Axes>"
      ]
     },
     "metadata": {},
     "output_type": "display_data"
    }
   ],
   "source": [
    "\n",
    "plt.figure(figsize=(12, 6))\n",
    "\n",
    "plt.subplot(1,2,1)\n",
    "sns.barplot(x = df1.ProductName, y = df1['PurchasePrice'], data = df1, palette = 'magma', edgecolor = 'black')\n",
    "plt.title('Top 5 best Performing Products by Total Revenue generated', color = 'brown', fontsize = 15)\n",
    "plt.yticks(color ='black')\n",
    "plt.xticks(rotation=60, color = 'black')\n",
    "\n",
    "plt.subplot(1,2,2)\n",
    "sns.barplot(x = df2.ProductName, y = df2['TransactionID'], data = df2, palette = 'magma', edgecolor = 'black')\n",
    "plt.title('Top 5 best Performing Products by Total Time Purchased', color = 'brown', fontsize = 15)\n",
    "plt.yticks(color ='black')\n",
    "plt.xticks(rotation=60, color = 'black')\n",
    "\n",
    "plt.tight_layout()\n",
    "plt.show()\n"
   ]
  },
  {
   "cell_type": "code",
   "execution_count": 152,
   "id": "4fea6210-3837-4310-96cd-c46900e8e0ed",
   "metadata": {},
   "outputs": [],
   "source": [
    "# !pip install textblob"
   ]
  },
  {
   "cell_type": "markdown",
   "id": "741dab15-003b-4952-be59-7d4f34dca5d9",
   "metadata": {},
   "source": [
    "### Performed sentiment analysis on the review texts."
   ]
  },
  {
   "cell_type": "code",
   "execution_count": 48,
   "id": "4ee7ad64-3257-4d4c-a9ba-8ed199c91631",
   "metadata": {},
   "outputs": [
    {
     "data": {
      "text/html": [
       "<div>\n",
       "<style scoped>\n",
       "    .dataframe tbody tr th:only-of-type {\n",
       "        vertical-align: middle;\n",
       "    }\n",
       "\n",
       "    .dataframe tbody tr th {\n",
       "        vertical-align: top;\n",
       "    }\n",
       "\n",
       "    .dataframe thead th {\n",
       "        text-align: right;\n",
       "    }\n",
       "</style>\n",
       "<table border=\"1\" class=\"dataframe\">\n",
       "  <thead>\n",
       "    <tr style=\"text-align: right;\">\n",
       "      <th></th>\n",
       "      <th>ReviewText</th>\n",
       "      <th>ReviewSentiment</th>\n",
       "    </tr>\n",
       "  </thead>\n",
       "  <tbody>\n",
       "    <tr>\n",
       "      <th>715</th>\n",
       "      <td>The product works as expected, but it's nothin...</td>\n",
       "      <td>0.128571</td>\n",
       "    </tr>\n",
       "    <tr>\n",
       "      <th>686</th>\n",
       "      <td>It's not a bad product, but I think I could fi...</td>\n",
       "      <td>0.425000</td>\n",
       "    </tr>\n",
       "    <tr>\n",
       "      <th>798</th>\n",
       "      <td>It works, but I've had better products for the...</td>\n",
       "      <td>0.250000</td>\n",
       "    </tr>\n",
       "    <tr>\n",
       "      <th>429</th>\n",
       "      <td>It stopped working almost immediately. Waste o...</td>\n",
       "      <td>-0.200000</td>\n",
       "    </tr>\n",
       "    <tr>\n",
       "      <th>598</th>\n",
       "      <td>I don't hate it, but I don't love it either. I...</td>\n",
       "      <td>-0.150000</td>\n",
       "    </tr>\n",
       "  </tbody>\n",
       "</table>\n",
       "</div>"
      ],
      "text/plain": [
       "                                            ReviewText  ReviewSentiment\n",
       "715  The product works as expected, but it's nothin...         0.128571\n",
       "686  It's not a bad product, but I think I could fi...         0.425000\n",
       "798  It works, but I've had better products for the...         0.250000\n",
       "429  It stopped working almost immediately. Waste o...        -0.200000\n",
       "598  I don't hate it, but I don't love it either. I...        -0.150000"
      ]
     },
     "execution_count": 48,
     "metadata": {},
     "output_type": "execute_result"
    }
   ],
   "source": [
    "\n",
    "from textblob import TextBlob\n",
    "\n",
    "sentiments = [TextBlob(review).sentiment.polarity for review in review_df['ReviewText']]\n",
    "\n",
    "review_df['ReviewSentiment'] = sentiments\n",
    "review_df.loc[:, ['ReviewText', 'ReviewSentiment']].sample(5)\n"
   ]
  },
  {
   "cell_type": "markdown",
   "id": "8f8eebc8-a11d-431d-9272-8870439678ae",
   "metadata": {},
   "source": [
    "### Classify reviews into positive, negative, or neutral sentiments."
   ]
  },
  {
   "cell_type": "code",
   "execution_count": 54,
   "id": "5505a290-1487-41aa-88b6-4cb5343187c5",
   "metadata": {},
   "outputs": [],
   "source": [
    "\n",
    "def Review_classifier(sentiment_score):\n",
    "    if sentiment_score > 0.05:\n",
    "        return 'Positive'\n",
    "    elif sentiment_score < -0.05:\n",
    "        return 'Negative'\n",
    "    else:\n",
    "        return 'Neutral'\n",
    "\n",
    "review_df['SentimentClass'] = review_df['ReviewSentiment'].apply(Review_classifier)\n"
   ]
  },
  {
   "cell_type": "markdown",
   "id": "0e422ed4-f0f7-4f8d-9c10-e0cac01378fb",
   "metadata": {},
   "source": [
    "### Analyze customer sentiments related to different products and categories."
   ]
  },
  {
   "cell_type": "code",
   "execution_count": 49,
   "id": "8e3e8303-ade3-4dc7-a569-d4b6d894d6ac",
   "metadata": {},
   "outputs": [
    {
     "name": "stdout",
     "output_type": "stream",
     "text": [
      "Top 5 products with highest average positive reviews sentiment:,\n"
     ]
    },
    {
     "data": {
      "text/html": [
       "<div>\n",
       "<style scoped>\n",
       "    .dataframe tbody tr th:only-of-type {\n",
       "        vertical-align: middle;\n",
       "    }\n",
       "\n",
       "    .dataframe tbody tr th {\n",
       "        vertical-align: top;\n",
       "    }\n",
       "\n",
       "    .dataframe thead th {\n",
       "        text-align: right;\n",
       "    }\n",
       "</style>\n",
       "<table border=\"1\" class=\"dataframe\">\n",
       "  <thead>\n",
       "    <tr style=\"text-align: right;\">\n",
       "      <th></th>\n",
       "      <th>ProductName</th>\n",
       "      <th>ReviewSentiment</th>\n",
       "    </tr>\n",
       "  </thead>\n",
       "  <tbody>\n",
       "    <tr>\n",
       "      <th>18</th>\n",
       "      <td>Vacuum Cleaner</td>\n",
       "      <td>0.491285</td>\n",
       "    </tr>\n",
       "    <tr>\n",
       "      <th>11</th>\n",
       "      <td>Router</td>\n",
       "      <td>0.409288</td>\n",
       "    </tr>\n",
       "    <tr>\n",
       "      <th>7</th>\n",
       "      <td>Laptop</td>\n",
       "      <td>0.409125</td>\n",
       "    </tr>\n",
       "    <tr>\n",
       "      <th>6</th>\n",
       "      <td>Heater</td>\n",
       "      <td>0.395901</td>\n",
       "    </tr>\n",
       "    <tr>\n",
       "      <th>17</th>\n",
       "      <td>Toaster</td>\n",
       "      <td>0.358584</td>\n",
       "    </tr>\n",
       "  </tbody>\n",
       "</table>\n",
       "</div>"
      ],
      "text/plain": [
       "       ProductName  ReviewSentiment\n",
       "18  Vacuum Cleaner         0.491285\n",
       "11          Router         0.409288\n",
       "7           Laptop         0.409125\n",
       "6           Heater         0.395901\n",
       "17         Toaster         0.358584"
      ]
     },
     "execution_count": 49,
     "metadata": {},
     "output_type": "execute_result"
    }
   ],
   "source": [
    "\n",
    "review_prod = pd.merge(review_df, products_df, on='ProductID', how='inner')\n",
    "\n",
    "df = review_prod.groupby(by='ProductName')['ReviewSentiment'].mean().reset_index()\n",
    "\n",
    "print(f'Top 5 products with highest average positive reviews sentiment:,')\n",
    "df.sort_values(by='ReviewSentiment', ascending=False).iloc[:5, :]\n"
   ]
  },
  {
   "cell_type": "code",
   "execution_count": 50,
   "id": "f913846f-7453-4fc2-96e1-dc4bfca7f9ba",
   "metadata": {},
   "outputs": [
    {
     "name": "stdout",
     "output_type": "stream",
     "text": [
      "Bottom 5 products with lowest average negative reviews sentiments:,\n"
     ]
    },
    {
     "data": {
      "text/html": [
       "<div>\n",
       "<style scoped>\n",
       "    .dataframe tbody tr th:only-of-type {\n",
       "        vertical-align: middle;\n",
       "    }\n",
       "\n",
       "    .dataframe tbody tr th {\n",
       "        vertical-align: top;\n",
       "    }\n",
       "\n",
       "    .dataframe thead th {\n",
       "        text-align: right;\n",
       "    }\n",
       "</style>\n",
       "<table border=\"1\" class=\"dataframe\">\n",
       "  <thead>\n",
       "    <tr style=\"text-align: right;\">\n",
       "      <th></th>\n",
       "      <th>ProductName</th>\n",
       "      <th>ReviewSentiment</th>\n",
       "    </tr>\n",
       "  </thead>\n",
       "  <tbody>\n",
       "    <tr>\n",
       "      <th>8</th>\n",
       "      <td>Microwave</td>\n",
       "      <td>0.121546</td>\n",
       "    </tr>\n",
       "    <tr>\n",
       "      <th>2</th>\n",
       "      <td>Camera</td>\n",
       "      <td>0.204063</td>\n",
       "    </tr>\n",
       "    <tr>\n",
       "      <th>12</th>\n",
       "      <td>Smart Bulb</td>\n",
       "      <td>0.215697</td>\n",
       "    </tr>\n",
       "    <tr>\n",
       "      <th>1</th>\n",
       "      <td>Blender</td>\n",
       "      <td>0.232237</td>\n",
       "    </tr>\n",
       "    <tr>\n",
       "      <th>15</th>\n",
       "      <td>Tablet</td>\n",
       "      <td>0.254882</td>\n",
       "    </tr>\n",
       "  </tbody>\n",
       "</table>\n",
       "</div>"
      ],
      "text/plain": [
       "   ProductName  ReviewSentiment\n",
       "8    Microwave         0.121546\n",
       "2       Camera         0.204063\n",
       "12  Smart Bulb         0.215697\n",
       "1      Blender         0.232237\n",
       "15      Tablet         0.254882"
      ]
     },
     "execution_count": 50,
     "metadata": {},
     "output_type": "execute_result"
    }
   ],
   "source": [
    "\n",
    "df = review_prod.groupby(by='ProductName')['ReviewSentiment'].mean().reset_index()\n",
    "\n",
    "print(f'Bottom 5 products with lowest average negative reviews sentiments:,')\n",
    "df.sort_values(by='ReviewSentiment', ascending=True).iloc[:5, :]\n"
   ]
  },
  {
   "cell_type": "code",
   "execution_count": 51,
   "id": "7cfe6a8f-4283-409e-8659-ec2edd474825",
   "metadata": {},
   "outputs": [
    {
     "name": "stdout",
     "output_type": "stream",
     "text": [
      "Top Product category by positive average reviews sentiments:,\n"
     ]
    },
    {
     "data": {
      "text/html": [
       "<div>\n",
       "<style scoped>\n",
       "    .dataframe tbody tr th:only-of-type {\n",
       "        vertical-align: middle;\n",
       "    }\n",
       "\n",
       "    .dataframe tbody tr th {\n",
       "        vertical-align: top;\n",
       "    }\n",
       "\n",
       "    .dataframe thead th {\n",
       "        text-align: right;\n",
       "    }\n",
       "</style>\n",
       "<table border=\"1\" class=\"dataframe\">\n",
       "  <thead>\n",
       "    <tr style=\"text-align: right;\">\n",
       "      <th></th>\n",
       "      <th>ProductCategory</th>\n",
       "      <th>ReviewSentiment</th>\n",
       "    </tr>\n",
       "  </thead>\n",
       "  <tbody>\n",
       "    <tr>\n",
       "      <th>0</th>\n",
       "      <td>Electronics</td>\n",
       "      <td>0.313219</td>\n",
       "    </tr>\n",
       "  </tbody>\n",
       "</table>\n",
       "</div>"
      ],
      "text/plain": [
       "  ProductCategory  ReviewSentiment\n",
       "0     Electronics         0.313219"
      ]
     },
     "execution_count": 51,
     "metadata": {},
     "output_type": "execute_result"
    }
   ],
   "source": [
    "\n",
    "df = review_prod.groupby(by='ProductCategory')['ReviewSentiment'].mean().reset_index()\n",
    "\n",
    "print(f'Top Product category by positive average reviews sentiments:,')\n",
    "df.sort_values(by='ReviewSentiment', ascending=False).iloc[:1, :]\n"
   ]
  },
  {
   "cell_type": "code",
   "execution_count": 52,
   "id": "54182b65-fde6-42e9-a101-670e185c7661",
   "metadata": {},
   "outputs": [
    {
     "name": "stdout",
     "output_type": "stream",
     "text": [
      "5 Most Reviewed Products:\n"
     ]
    },
    {
     "data": {
      "text/html": [
       "<div>\n",
       "<style scoped>\n",
       "    .dataframe tbody tr th:only-of-type {\n",
       "        vertical-align: middle;\n",
       "    }\n",
       "\n",
       "    .dataframe tbody tr th {\n",
       "        vertical-align: top;\n",
       "    }\n",
       "\n",
       "    .dataframe thead th {\n",
       "        text-align: right;\n",
       "    }\n",
       "</style>\n",
       "<table border=\"1\" class=\"dataframe\">\n",
       "  <thead>\n",
       "    <tr style=\"text-align: right;\">\n",
       "      <th></th>\n",
       "      <th>ProductName</th>\n",
       "      <th>Number_of_reviews</th>\n",
       "    </tr>\n",
       "  </thead>\n",
       "  <tbody>\n",
       "    <tr>\n",
       "      <th>4</th>\n",
       "      <td>Electric Kettle</td>\n",
       "      <td>85</td>\n",
       "    </tr>\n",
       "    <tr>\n",
       "      <th>16</th>\n",
       "      <td>Television</td>\n",
       "      <td>80</td>\n",
       "    </tr>\n",
       "    <tr>\n",
       "      <th>19</th>\n",
       "      <td>Washing Machine</td>\n",
       "      <td>76</td>\n",
       "    </tr>\n",
       "    <tr>\n",
       "      <th>9</th>\n",
       "      <td>Printer</td>\n",
       "      <td>76</td>\n",
       "    </tr>\n",
       "    <tr>\n",
       "      <th>5</th>\n",
       "      <td>Headphones</td>\n",
       "      <td>73</td>\n",
       "    </tr>\n",
       "  </tbody>\n",
       "</table>\n",
       "</div>"
      ],
      "text/plain": [
       "        ProductName  Number_of_reviews\n",
       "4   Electric Kettle                 85\n",
       "16       Television                 80\n",
       "19  Washing Machine                 76\n",
       "9           Printer                 76\n",
       "5        Headphones                 73"
      ]
     },
     "execution_count": 52,
     "metadata": {},
     "output_type": "execute_result"
    }
   ],
   "source": [
    "\n",
    "df = review_prod.groupby(by='ProductName')['ReviewID'].count().reset_index()\n",
    "\n",
    "print(f'5 Most Reviewed Products:')\n",
    "df = df.sort_values(by='ReviewID', ascending=False).iloc[:5, :]\n",
    "df.rename(columns={'ReviewID':'Number_of_reviews'}, inplace = True)\n",
    "df\n"
   ]
  },
  {
   "cell_type": "code",
   "execution_count": 56,
   "id": "9d3a14c2-340e-4a17-a810-179bd2c420b5",
   "metadata": {},
   "outputs": [],
   "source": [
    "review_df.to_csv('updated_review_data.csv', index = False)\n"
   ]
  },
  {
   "cell_type": "code",
   "execution_count": null,
   "id": "ce3ccf74-51b7-4da1-89f3-e6fdf34bc81d",
   "metadata": {},
   "outputs": [],
   "source": []
  }
 ],
 "metadata": {
  "kernelspec": {
   "display_name": "Python 3 (ipykernel)",
   "language": "python",
   "name": "python3"
  },
  "language_info": {
   "codemirror_mode": {
    "name": "ipython",
    "version": 3
   },
   "file_extension": ".py",
   "mimetype": "text/x-python",
   "name": "python",
   "nbconvert_exporter": "python",
   "pygments_lexer": "ipython3",
   "version": "3.12.4"
  }
 },
 "nbformat": 4,
 "nbformat_minor": 5
}
